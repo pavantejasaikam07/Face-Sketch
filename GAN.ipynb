{
 "cells": [
  {
   "cell_type": "code",
   "execution_count": null,
   "metadata": {
    "colab": {
     "base_uri": "https://localhost:8080/"
    },
    "executionInfo": {
     "elapsed": 7974,
     "status": "ok",
     "timestamp": 1648274128033,
     "user": {
      "displayName": "naveen venkat",
      "photoUrl": "https://lh3.googleusercontent.com/a/default-user=s64",
      "userId": "18147258204260933479"
     },
     "user_tz": -330
    },
    "id": "lsFB4fzipJZu",
    "outputId": "e24ca066-bf69-42b6-cd80-dd722efb6bce"
   },
   "outputs": [
    {
     "name": "stdout",
     "output_type": "stream",
     "text": [
      "Collecting git+https://www.github.com/keras-team/keras-contrib.git\n",
      "  Cloning https://www.github.com/keras-team/keras-contrib.git to /tmp/pip-req-build-oe3so9h2\n",
      "  Running command git clone -q https://www.github.com/keras-team/keras-contrib.git /tmp/pip-req-build-oe3so9h2\n",
      "Requirement already satisfied: keras in /usr/local/lib/python3.7/dist-packages (from keras-contrib==2.0.8) (2.8.0)\n",
      "Building wheels for collected packages: keras-contrib\n",
      "  Building wheel for keras-contrib (setup.py) ... \u001b[?25l\u001b[?25hdone\n",
      "  Created wheel for keras-contrib: filename=keras_contrib-2.0.8-py3-none-any.whl size=101077 sha256=92b77327fb4ae805794f53bfe831dba4c6a0eb0f251368c24f0340d0eaa1af85\n",
      "  Stored in directory: /tmp/pip-ephem-wheel-cache-ghpm5fc1/wheels/bb/1f/f2/b57495012683b6b20bbae94a3915ec79753111452d79886abc\n",
      "Successfully built keras-contrib\n",
      "Installing collected packages: keras-contrib\n",
      "Successfully installed keras-contrib-2.0.8\n"
     ]
    }
   ],
   "source": [
    "pip install git+https://www.github.com/keras-team/keras-contrib.git"
   ]
  },
  {
   "cell_type": "code",
   "execution_count": 1,
   "metadata": {
    "id": "ac7HfR0YwKmA"
   },
   "outputs": [
    {
     "name": "stderr",
     "output_type": "stream",
     "text": [
      "Using TensorFlow backend.\n"
     ]
    }
   ],
   "source": [
    "from __future__ import print_function, division\n",
    "\n",
    "from keras_contrib.layers.normalization.instancenormalization import InstanceNormalization\n",
    "from keras.layers import Input, Dense, Reshape, Flatten, Dropout, Concatenate, BatchNormalization, Activation, ZeroPadding2D\n",
    "from keras.layers.advanced_activations import LeakyReLU\n",
    "from keras.layers.convolutional import UpSampling2D, Conv2D\n",
    "from keras.models import Sequential, Model\n",
    "from tensorflow.keras.optimizers import Adam\n",
    "\n",
    "from keras.preprocessing.image import img_to_array\n",
    "from keras.preprocessing.image import load_img\n",
    "\n",
    "from sklearn.utils import shuffle\n",
    "import matplotlib.pyplot as plt\n",
    "import numpy as np\n",
    "import datetime\n",
    "import natsort\n",
    "import scipy\n",
    "import sys\n",
    "import os\n",
    "import cv2"
   ]
  },
  {
   "cell_type": "markdown",
   "metadata": {
    "id": "dzSLZpvewKmG"
   },
   "source": [
    "## Helper Function"
   ]
  },
  {
   "cell_type": "code",
   "execution_count": 2,
   "metadata": {
    "id": "RvYRlxGMwKmH"
   },
   "outputs": [],
   "source": [
    "def load_filename(path):\n",
    "    dirFiles = os.listdir(path)\n",
    "    for i, file in enumerate(dirFiles):\n",
    "        dirFiles[i] = path + file\n",
    "    return natsort.natsorted(dirFiles ,reverse=False)\n",
    "\n",
    "# load all images in a directory into memory\n",
    "def load_images(list_path, size=(256, 256)):\n",
    "    img_list = list()\n",
    "    # enumerate filenames in directory, assume all are images\n",
    "    for filename in list_path:\n",
    "        # load and resize the image\n",
    "        pixels = load_img(filename, target_size=size)\n",
    "        # convert to numpy array\n",
    "        pixels = img_to_array(pixels)\n",
    "        pixels = (pixels - 127.5) / 127.5\n",
    "        img_list.append(pixels)\n",
    "    return np.asarray(img_list)"
   ]
  },
  {
   "cell_type": "code",
   "execution_count": 3,
   "metadata": {
    "id": "R7sfDtNcwKmJ"
   },
   "outputs": [],
   "source": [
    "# select a batch of random samples, returns images and target\n",
    "def generate_real_samples(dataset, n_samples, patch_shape):\n",
    "    # unpack dataset\n",
    "    trainA, trainB = dataset\n",
    "\n",
    "    # choose random instances\n",
    "    ix = np.random.randint(0, trainA.shape[0], n_samples)\n",
    "    \n",
    "    # retrieve selected images\n",
    "    X1, X2 = trainA[ix], trainB[ix]\n",
    "    \n",
    "    # generate 'real' class labels (1)\n",
    "    y = np.ones((n_samples, patch_shape, patch_shape, 1))\n",
    "    \n",
    "    return [X1, X2], y\n",
    "\n",
    "# generate a batch of images, returns images and targets\n",
    "def generate_fake_samples(g_model, samples, patch_shape):\n",
    "    # generate fake instance\n",
    "    X = g_model.predict(samples)\n",
    "    \n",
    "    # create 'fake' class labels (0)\n",
    "    y = np.zeros((len(X), patch_shape, patch_shape, 1))\n",
    "    \n",
    "    return X, y"
   ]
  },
  {
   "cell_type": "code",
   "execution_count": 4,
   "metadata": {
    "id": "phNyyrvqwKmK"
   },
   "outputs": [],
   "source": [
    "# generate samples and save as a plot and save the model\n",
    "def summarize_performance(step, g_model, d_model, dataset, target_dir='', n_samples=3):\n",
    "    if target_dir and not os.path.exists(target_dir):\n",
    "        os.mkdir(target_dir)\n",
    "    # select a sample of input images\n",
    "    [X_realA, X_realB], _ = generate_real_samples(dataset, n_samples, 1)\n",
    "    # generate a batch of fake samples\n",
    "    X_fakeB, _ = generate_fake_samples(g_model, X_realA, 1)\n",
    "    # scale all pixels from [-1,1] to [0,1]\n",
    "    X_realA = (X_realA + 1) / 2.0\n",
    "    X_realB = (X_realB + 1) / 2.0\n",
    "    X_fakeB = (X_fakeB + 1) / 2.0\n",
    "    # plot real source images\n",
    "    for i in range(n_samples):\n",
    "        plt.subplot(3, n_samples, 1 + i)\n",
    "        plt.axis('off')\n",
    "        plt.imshow(X_realA[i])\n",
    "    # plot generated target image\n",
    "    for i in range(n_samples):\n",
    "        plt.subplot(3, n_samples, 1 + n_samples + i)\n",
    "        plt.axis('off')\n",
    "        plt.imshow(X_fakeB[i])\n",
    "    # plot real target image\n",
    "    for i in range(n_samples):\n",
    "        plt.subplot(3, n_samples, 1 + n_samples*2 + i)\n",
    "        plt.axis('off')\n",
    "        plt.imshow(X_realB[i])\n",
    "    # save plot to file\n",
    "    filename1 = 'plot_%06d.png' % (step+1)\n",
    "    plt.savefig(target_dir + filename1)\n",
    "    plt.close()\n",
    "    # save the generator model\n",
    "    g_model.save(target_dir + 'g_model.h5')\n",
    "    \n",
    "    # save the discriminator model\n",
    "    d_model.save(target_dir + 'd_model.h5')\n",
    "    \n",
    "    print('>Saved: %s and %s' % (filename1, 'g_model & d_model'))"
   ]
  },
  {
   "cell_type": "markdown",
   "metadata": {
    "id": "WcBvIEtTwKmL"
   },
   "source": [
    "## Generator"
   ]
  },
  {
   "cell_type": "code",
   "execution_count": 5,
   "metadata": {
    "id": "AU9rqeIVwKmL"
   },
   "outputs": [],
   "source": [
    "def generator(img_shape):\n",
    "    def conv2d(layer_in, n_filter, norm=True):\n",
    "        d = Conv2D(n_filter, kernel_size=4, strides=2, padding='same')(layer_in)\n",
    "        d = LeakyReLU(0.2)(d)\n",
    "        if norm:\n",
    "            d = InstanceNormalization()(d)\n",
    "        return d\n",
    "    \n",
    "    def deconv2d(layer_in, skip_in, n_filter, dropout=0.5):\n",
    "        d = UpSampling2D(size=2)(layer_in)\n",
    "        d = Conv2D(n_filter, kernel_size=4, strides=1, padding='same', activation='relu')(d)\n",
    "        if dropout:\n",
    "            d = Dropout(dropout)(d)\n",
    "        d = InstanceNormalization()(d)\n",
    "        d = Concatenate()([d, skip_in])\n",
    "        return d\n",
    "    \n",
    "    # Input Layer\n",
    "    in_img = Input(shape=img_shape)\n",
    "    \n",
    "    # Downsampling\n",
    "    d1 = conv2d(in_img, 64, norm=False)\n",
    "    d2 = conv2d(d1, 128)\n",
    "    d3 = conv2d(d2, 256)\n",
    "    d4 = conv2d(d3, 512)\n",
    "    d5 = conv2d(d4, 512)\n",
    "    d6 = conv2d(d5, 512)\n",
    "    d7 = conv2d(d6, 512)\n",
    "    \n",
    "    # Upsampling\n",
    "    u1 = deconv2d(d7, d6, 512)\n",
    "    u2 = deconv2d(u1, d5, 512)\n",
    "    u3 = deconv2d(u2, d4, 512)\n",
    "    u4 = deconv2d(u3, d3, 256, dropout=0)\n",
    "    u5 = deconv2d(u4, d2, 128, dropout=0)\n",
    "    u6 = deconv2d(u5, d1, 64, dropout=0)\n",
    "    u7 = UpSampling2D(size=2)(u6)\n",
    "    \n",
    "    out_img = Conv2D(3, kernel_size=4, strides=1, padding='same', activation='tanh')(u7)\n",
    "    \n",
    "    return Model(in_img, out_img, name='generator')"
   ]
  },
  {
   "cell_type": "markdown",
   "metadata": {
    "id": "AnYHDtgLwKmM"
   },
   "source": [
    "## Discriminator"
   ]
  },
  {
   "cell_type": "code",
   "execution_count": 6,
   "metadata": {
    "id": "Qp0fzIRvwKmN"
   },
   "outputs": [],
   "source": [
    "def discriminator(img_shape):\n",
    "    def d_layer(layer_in, n_filter, norm=True):\n",
    "        d = Conv2D(n_filter, kernel_size=4, strides=2, padding='same')(layer_in)\n",
    "        d = LeakyReLU(0.2)(d)\n",
    "        if norm:\n",
    "            d = InstanceNormalization()(d)\n",
    "        return d\n",
    "    \n",
    "    in_src_img = Input(shape=img_shape)\n",
    "    in_target_img = Input(shape=img_shape)\n",
    "    \n",
    "    merged = Concatenate()([in_src_img, in_target_img])\n",
    "    \n",
    "    d1 = d_layer(merged, 64, norm=False)\n",
    "    d2 = d_layer(d1, 128)\n",
    "    d3 = d_layer(d1, 256)\n",
    "    d4 = d_layer(d1, 512)\n",
    "\n",
    "    out = Conv2D(1, kernel_size=4, strides=1, padding='same')(d4)\n",
    "    \n",
    "    return Model([in_src_img, in_target_img], out, name='discriminator')"
   ]
  },
  {
   "cell_type": "markdown",
   "metadata": {
    "id": "IFFNJKVTwKmO"
   },
   "source": [
    "## GAN"
   ]
  },
  {
   "cell_type": "code",
   "execution_count": 7,
   "metadata": {
    "id": "rZ5MsPIOwKmO"
   },
   "outputs": [],
   "source": [
    "def GAN(g_model, d_model, img_shape):\n",
    "    d_model.trainable = False\n",
    "    in_img = Input(shape=img_shape)\n",
    "    gen_out = g_model(in_img)\n",
    "    dis_out = d_model([in_img, gen_out])\n",
    "    model = Model(in_img, [dis_out, gen_out], name='GAN')\n",
    "    return model"
   ]
  },
  {
   "cell_type": "markdown",
   "metadata": {
    "id": "UoDSkGgtwKmP"
   },
   "source": [
    "## Train GAN model"
   ]
  },
  {
   "cell_type": "code",
   "execution_count": 8,
   "metadata": {
    "id": "ea_-QzjTwKmP"
   },
   "outputs": [],
   "source": [
    "def train(d_model, g_model, gan_model, data, target_dir, n_epochs=100, n_batch=16):\n",
    "    # determine the output square shape of the discriminator\n",
    "    n_patch = d_model.output_shape[1]\n",
    "    \n",
    "    blue_photo = data[0]\n",
    "    blue_sketch = data[1]\n",
    "    \n",
    "    for i in range(n_epochs):\n",
    "        print(' ========== Epoch', i+1, '========== ')\n",
    "        \n",
    "        blue_photo, blue_sketch = shuffle(blue_photo, blue_sketch)\n",
    "\n",
    "        for j in range(int(len(blue_photo)/n_batch)):\n",
    "            \n",
    "            start = int(j*n_batch)\n",
    "            end = int(min(len(blue_photo), (j*n_batch)+n_batch))\n",
    "            \n",
    "            dataset = [load_images(blue_photo[start:end]), load_images(blue_sketch[start:end])]\n",
    "\n",
    "            # select a batch of real samples\n",
    "            [X_realA, X_realB], y_real = generate_real_samples(dataset, n_batch, n_patch)\n",
    "            \n",
    "            # generate a batch of fake samples\n",
    "            X_fakeB, y_fake = generate_fake_samples(g_model, X_realA, n_patch)\n",
    "            \n",
    "            # update discriminator for real samples\n",
    "            d_loss1 = d_model.train_on_batch([X_realA, X_realB], y_real)\n",
    "            \n",
    "            # update discriminator for generated samples\n",
    "            d_loss2 = d_model.train_on_batch([X_realA, X_fakeB], y_fake)\n",
    "            \n",
    "            d_loss = 0.5 * np.add(d_loss1, d_loss2)\n",
    "            \n",
    "            # update the generator\n",
    "            g_loss, _, _ = gan_model.train_on_batch(X_realA, [y_real, X_realB])\n",
    "            \n",
    "            # summarize performance\n",
    "            print('Batch : %d, D Loss : %.3f | G Loss : %.3f' % (j+1, d_loss, g_loss))\n",
    "        \n",
    "        # summarize model performance\n",
    "#         if (i+1) % 10 == 0:\n",
    "        summarize_performance(i, g_model, d_model, dataset, target_dir)"
   ]
  },
  {
   "cell_type": "markdown",
   "metadata": {
    "id": "LrU7NF-gwKmP"
   },
   "source": [
    "## Loss Function"
   ]
  },
  {
   "cell_type": "code",
   "execution_count": 9,
   "metadata": {
    "colab": {
     "base_uri": "https://localhost:8080/"
    },
    "executionInfo": {
     "elapsed": 7,
     "status": "ok",
     "timestamp": 1648274153014,
     "user": {
      "displayName": "naveen venkat",
      "photoUrl": "https://lh3.googleusercontent.com/a/default-user=s64",
      "userId": "18147258204260933479"
     },
     "user_tz": -330
    },
    "id": "JvKm1N_iwKmQ",
    "outputId": "674ea7a5-ed4f-49ee-9f5b-cb861f15d56d"
   },
   "outputs": [
    {
     "name": "stdout",
     "output_type": "stream",
     "text": [
      "WARNING:tensorflow:From C:\\Users\\Rehan\\miniconda3\\envs\\face\\lib\\site-packages\\tensorflow_core\\python\\compat\\v2_compat.py:68: disable_resource_variables (from tensorflow.python.ops.variable_scope) is deprecated and will be removed in a future version.\n",
      "Instructions for updating:\n",
      "non-resource variables are not supported in the long term\n"
     ]
    }
   ],
   "source": [
    "#downgrading tensorflow\n",
    "import tensorflow as tf\n",
    "import tensorflow.compat.v1 as tf\n",
    "tf.disable_v2_behavior()\n",
    "\n",
    "\n",
    "import keras.backend as K\n",
    "from keras.losses import mean_absolute_error\n",
    "\n",
    "def pixel_loss(y_true, y_pred):\n",
    "    return K.mean(K.abs(y_true - y_pred))\n",
    "\n",
    "def contextual_loss (y_true, y_pred):\n",
    "    a = tf.image.rgb_to_grayscale(tf.slice(\n",
    "                                y_pred, \n",
    "                                [0,0,0,0], \n",
    "                                [16, 256, 256, 3]))\n",
    "    \n",
    "    b = tf.image.rgb_to_grayscale(tf.slice(\n",
    "                                y_true, \n",
    "                                [0,0,0,0], \n",
    "                                [16, 256, 256, 3]))\n",
    "    \n",
    "    y_pred = tf.divide(tf.add(tf.reshape(a, [tf.shape(a)[0], -1]), 1), 2)\n",
    "    y_true = tf.divide(tf.add(tf.reshape(b, [tf.shape(b)[0], -1]), 1), 2)\n",
    "    \n",
    "#     tf.assert_rank(y_true,2)\n",
    "#     tf.assert_rank(y_pred,2)\n",
    "    \n",
    "    p_shape = tf.shape(y_true)\n",
    "    q_shape = tf.shape(y_pred)\n",
    "#     tf.assert_equal(p_shape, q_shape)\n",
    "    \n",
    "    # normalize sum to 1\n",
    "    p_ = tf.divide(y_true, tf.tile(tf.expand_dims(tf.reduce_sum(y_true, axis=1), 1), [1,p_shape[1]]))\n",
    "    q_ = tf.divide(y_pred, tf.tile(tf.expand_dims(tf.reduce_sum(y_pred, axis=1), 1), [1,p_shape[1]]))\n",
    "    \n",
    "    return tf.reduce_sum(tf.multiply(p_, tf.log(tf.divide(p_, q_))), axis=1)\n",
    "\n",
    "def total_loss (y_true, y_pred):\n",
    "\n",
    "    px_loss = pixel_loss(y_true, y_pred)\n",
    "\n",
    "    ctx_loss = contextual_loss(y_true, y_pred)\n",
    "    \n",
    "    return (0.2 * px_loss) + (0.8 * ctx_loss)"
   ]
  },
  {
   "cell_type": "markdown",
   "metadata": {
    "id": "OiiKUbXFwKmQ"
   },
   "source": [
    "## Load Dataset"
   ]
  },
  {
   "cell_type": "code",
   "execution_count": 10,
   "metadata": {
    "id": "pdUi9tn8wKmR"
   },
   "outputs": [],
   "source": [
    "# dataset path\n",
    "b_photo_path = 'Dataset/Augmented photo/'\n",
    "b_sketch_path = 'Dataset/Augmented sketch/'\n",
    "\n",
    "blue_photo = load_filename(b_photo_path)\n",
    "blue_sketch = load_filename(b_sketch_path)"
   ]
  },
  {
   "cell_type": "code",
   "execution_count": 11,
   "metadata": {
    "colab": {
     "base_uri": "https://localhost:8080/",
     "height": 286
    },
    "executionInfo": {
     "elapsed": 2272,
     "status": "ok",
     "timestamp": 1648274253664,
     "user": {
      "displayName": "naveen venkat",
      "photoUrl": "https://lh3.googleusercontent.com/a/default-user=s64",
      "userId": "18147258204260933479"
     },
     "user_tz": -330
    },
    "id": "FVooadJEwKmR",
    "outputId": "813d16b0-1f4e-45a4-aa5c-ae062a1e99e7",
    "scrolled": true
   },
   "outputs": [
    {
     "data": {
      "text/plain": [
       "<matplotlib.image.AxesImage at 0x27e2efd7988>"
      ]
     },
     "execution_count": 11,
     "metadata": {},
     "output_type": "execute_result"
    },
    {
     "data": {
      "image/png": "[encoded data removed]",
      "text/plain": [
       "<Figure size 432x288 with 1 Axes>"
      ]
     },
     "metadata": {
      "needs_background": "light"
     },
     "output_type": "display_data"
    }
   ],
   "source": [
    "plt.imshow(cv2.cvtColor(cv2.imread(blue_photo[1102]).astype('uint8'), cv2.COLOR_BGR2RGB))"
   ]
  },
  {
   "cell_type": "code",
   "execution_count": 12,
   "metadata": {
    "colab": {
     "base_uri": "https://localhost:8080/",
     "height": 286
    },
    "executionInfo": {
     "elapsed": 1295,
     "status": "ok",
     "timestamp": 1648274256738,
     "user": {
      "displayName": "naveen venkat",
      "photoUrl": "https://lh3.googleusercontent.com/a/default-user=s64",
      "userId": "18147258204260933479"
     },
     "user_tz": -330
    },
    "id": "UCNVjVQYwKmR",
    "outputId": "59cdc65c-f6e0-4c32-9ff0-016620c53e01"
   },
   "outputs": [
    {
     "data": {
      "text/plain": [
       "<matplotlib.image.AxesImage at 0x27e2efdc988>"
      ]
     },
     "execution_count": 12,
     "metadata": {},
     "output_type": "execute_result"
    },
    {
     "data": {
      "image/png": "[encoded data removed]",
      "text/plain": [
       "<Figure size 432x288 with 1 Axes>"
      ]
     },
     "metadata": {
      "needs_background": "light"
     },
     "output_type": "display_data"
    }
   ],
   "source": [
    "plt.imshow(cv2.cvtColor(cv2.imread(blue_sketch[1102]).astype('uint8'), cv2.COLOR_BGR2RGB))"
   ]
  },
  {
   "cell_type": "markdown",
   "metadata": {
    "id": "eihhcyD0wKmS"
   },
   "source": [
    "## Define GAN Model"
   ]
  },
  {
   "cell_type": "code",
   "execution_count": 13,
   "metadata": {
    "id": "tAlcpM5QwKmS",
    "scrolled": false
   },
   "outputs": [
    {
     "name": "stdout",
     "output_type": "stream",
     "text": [
      "WARNING:tensorflow:From C:\\Users\\Rehan\\miniconda3\\envs\\face\\lib\\site-packages\\tensorflow_core\\python\\ops\\resource_variable_ops.py:1630: calling BaseResourceVariable.__init__ (from tensorflow.python.ops.resource_variable_ops) with constraint is deprecated and will be removed in a future version.\n",
      "Instructions for updating:\n",
      "If using Keras pass *_constraint arguments to layers.\n"
     ]
    }
   ],
   "source": [
    "img_shape = (256, 256, 3)\n",
    "\n",
    "d_model = discriminator(img_shape)\n",
    "\n",
    "g_model = generator(img_shape)\n",
    "\n",
    "gan_model = GAN(g_model, d_model, img_shape)"
   ]
  },
  {
   "cell_type": "code",
   "execution_count": 14,
   "metadata": {
    "colab": {
     "base_uri": "https://localhost:8080/"
    },
    "executionInfo": {
     "elapsed": 20,
     "status": "ok",
     "timestamp": 1648274261356,
     "user": {
      "displayName": "naveen venkat",
      "photoUrl": "https://lh3.googleusercontent.com/a/default-user=s64",
      "userId": "18147258204260933479"
     },
     "user_tz": -330
    },
    "id": "qpYMiU02wKmS",
    "outputId": "47f0b583-83f8-408e-f6bc-2b68db1e3d89",
    "scrolled": true
   },
   "outputs": [
    {
     "name": "stdout",
     "output_type": "stream",
     "text": [
      "Model: \"GAN\"\n",
      "__________________________________________________________________________________________________\n",
      "Layer (type)                    Output Shape         Param #     Connected to                     \n",
      "==================================================================================================\n",
      "input_4 (InputLayer)            (None, 256, 256, 3)  0                                            \n",
      "__________________________________________________________________________________________________\n",
      "generator (Model)               (None, 256, 256, 3)  41825691    input_4[0][0]                    \n",
      "__________________________________________________________________________________________________\n",
      "discriminator (Model)           (None, 64, 64, 1)    539203      input_4[0][0]                    \n",
      "                                                                 generator[1][0]                  \n",
      "==================================================================================================\n",
      "Total params: 42,364,894\n",
      "Trainable params: 41,825,691\n",
      "Non-trainable params: 539,203\n",
      "__________________________________________________________________________________________________\n"
     ]
    }
   ],
   "source": [
    "gan_model.summary()"
   ]
  },
  {
   "cell_type": "code",
   "execution_count": 15,
   "metadata": {
    "colab": {
     "base_uri": "https://localhost:8080/"
    },
    "executionInfo": {
     "elapsed": 919,
     "status": "ok",
     "timestamp": 1648274404544,
     "user": {
      "displayName": "naveen venkat",
      "photoUrl": "https://lh3.googleusercontent.com/a/default-user=s64",
      "userId": "18147258204260933479"
     },
     "user_tz": -330
    },
    "id": "0Fzq8vW7zU9f",
    "outputId": "8584109a-3281-4655-ba88-03cb9d5be812"
   },
   "outputs": [
    {
     "data": {
      "text/plain": [
       "50"
      ]
     },
     "execution_count": 15,
     "metadata": {},
     "output_type": "execute_result"
    }
   ],
   "source": [
    "len(g_model.layers)"
   ]
  },
  {
   "cell_type": "code",
   "execution_count": 16,
   "metadata": {
    "colab": {
     "base_uri": "https://localhost:8080/"
    },
    "executionInfo": {
     "elapsed": 716,
     "status": "ok",
     "timestamp": 1648274364222,
     "user": {
      "displayName": "naveen venkat",
      "photoUrl": "https://lh3.googleusercontent.com/a/default-user=s64",
      "userId": "18147258204260933479"
     },
     "user_tz": -330
    },
    "id": "p6h5aEGDzqhZ",
    "outputId": "a6375e3e-21f9-4cd3-8243-21481c609900"
   },
   "outputs": [
    {
     "data": {
      "text/plain": [
       "9"
      ]
     },
     "execution_count": 16,
     "metadata": {},
     "output_type": "execute_result"
    }
   ],
   "source": [
    "len(d_model.layers)"
   ]
  },
  {
   "cell_type": "code",
   "execution_count": 17,
   "metadata": {
    "colab": {
     "base_uri": "https://localhost:8080/"
    },
    "executionInfo": {
     "elapsed": 3,
     "status": "ok",
     "timestamp": 1648274372899,
     "user": {
      "displayName": "naveen venkat",
      "photoUrl": "https://lh3.googleusercontent.com/a/default-user=s64",
      "userId": "18147258204260933479"
     },
     "user_tz": -330
    },
    "id": "AVqU_-E5zuAT",
    "outputId": "6fdc50ae-c5c8-4f46-f20b-13161b149986"
   },
   "outputs": [
    {
     "data": {
      "text/plain": [
       "3"
      ]
     },
     "execution_count": 17,
     "metadata": {},
     "output_type": "execute_result"
    }
   ],
   "source": [
    "len(gan_model.layers)"
   ]
  },
  {
   "cell_type": "code",
   "execution_count": 18,
   "metadata": {
    "colab": {
     "base_uri": "https://localhost:8080/"
    },
    "executionInfo": {
     "elapsed": 324,
     "status": "ok",
     "timestamp": 1648016858054,
     "user": {
      "displayName": "naveen venkat",
      "photoUrl": "https://lh3.googleusercontent.com/a/default-user=s64",
      "userId": "18147258204260933479"
     },
     "user_tz": -330
    },
    "id": "hXE88G0QwKmT",
    "outputId": "a92667e2-d8fd-42b6-f395-e71d64a64afd",
    "scrolled": true
   },
   "outputs": [],
   "source": [
    "from keras.optimizers import Adam\n",
    "opt = Adam(lr=2e-4, beta_1=0.5)\n",
    "\n",
    "d_model.compile(loss='binary_crossentropy', optimizer=opt, loss_weights=[0.5])\n",
    "gan_model.compile(loss=['binary_crossentropy', total_loss], optimizer=opt, loss_weights=[1,100])"
   ]
  },
  {
   "cell_type": "markdown",
   "metadata": {
    "id": "Tir4oIOVwKmT"
   },
   "source": [
    "## Start Training"
   ]
  },
  {
   "cell_type": "code",
   "execution_count": 19,
   "metadata": {
    "colab": {
     "base_uri": "https://localhost:8080/",
     "height": 1000
    },
    "executionInfo": {
     "elapsed": 751565,
     "status": "error",
     "timestamp": 1648021571147,
     "user": {
      "displayName": "naveen venkat",
      "photoUrl": "https://lh3.googleusercontent.com/a/default-user=s64",
      "userId": "18147258204260933479"
     },
     "user_tz": -330
    },
    "id": "KMjB1RCDwKmT",
    "outputId": "f3556621-0c20-4d64-cc78-e976da1f2ac2",
    "scrolled": true
   },
   "outputs": [
    {
     "name": "stdout",
     "output_type": "stream",
     "text": [
      " ========== Epoch 1 ========== \n",
      "WARNING:tensorflow:From C:\\Users\\Rehan\\miniconda3\\envs\\face\\lib\\site-packages\\keras\\backend\\tensorflow_backend.py:422: The name tf.global_variables is deprecated. Please use tf.compat.v1.global_variables instead.\n",
      "\n",
      "WARNING:tensorflow:From C:\\Users\\Rehan\\miniconda3\\envs\\face\\lib\\site-packages\\tensorflow_core\\python\\ops\\math_grad.py:1424: where (from tensorflow.python.ops.array_ops) is deprecated and will be removed in a future version.\n",
      "Instructions for updating:\n",
      "Use tf.where in 2.0, which has the same broadcast rule as np.where\n",
      "Batch : 1, D Loss : 3.591 | G Loss : 39.243\n",
      "Batch : 2, D Loss : 3.471 | G Loss : 28.457\n",
      "Batch : 3, D Loss : 3.577 | G Loss : 27.642\n",
      "Batch : 4, D Loss : 3.516 | G Loss : 26.161\n",
      "Batch : 5, D Loss : 3.472 | G Loss : 25.611\n",
      "Batch : 6, D Loss : 3.441 | G Loss : 24.154\n",
      "Batch : 7, D Loss : 3.353 | G Loss : 23.810\n",
      "Batch : 8, D Loss : 3.340 | G Loss : 24.735\n",
      "Batch : 9, D Loss : 3.498 | G Loss : 24.372\n",
      "Batch : 10, D Loss : 3.488 | G Loss : 24.266\n",
      "Batch : 11, D Loss : 3.508 | G Loss : 23.904\n",
      "Batch : 12, D Loss : 3.461 | G Loss : 24.226\n",
      "Batch : 13, D Loss : 3.568 | G Loss : 25.240\n",
      "Batch : 14, D Loss : 3.466 | G Loss : 23.601\n",
      "Batch : 15, D Loss : 3.595 | G Loss : 25.543\n",
      "Batch : 16, D Loss : 3.493 | G Loss : 22.193\n",
      "Batch : 17, D Loss : 3.433 | G Loss : 22.948\n",
      "Batch : 18, D Loss : 3.479 | G Loss : 22.293\n",
      "Batch : 19, D Loss : 3.458 | G Loss : 22.200\n",
      "Batch : 20, D Loss : 3.533 | G Loss : 20.834\n",
      "Batch : 21, D Loss : 3.599 | G Loss : 23.212\n",
      "Batch : 22, D Loss : 3.616 | G Loss : 22.891\n",
      "Batch : 23, D Loss : 3.507 | G Loss : 22.431\n",
      "Batch : 24, D Loss : 3.513 | G Loss : 21.422\n",
      "Batch : 25, D Loss : 3.516 | G Loss : 20.593\n",
      "Batch : 26, D Loss : 3.528 | G Loss : 20.634\n",
      "Batch : 27, D Loss : 3.387 | G Loss : 20.371\n",
      "Batch : 28, D Loss : 3.559 | G Loss : 20.027\n",
      "Batch : 29, D Loss : 3.487 | G Loss : 19.675\n",
      "Batch : 30, D Loss : 3.614 | G Loss : 19.633\n",
      "Batch : 31, D Loss : 3.440 | G Loss : 19.956\n",
      "Batch : 32, D Loss : 3.626 | G Loss : 19.767\n",
      "Batch : 33, D Loss : 3.473 | G Loss : 19.579\n",
      "Batch : 34, D Loss : 3.593 | G Loss : 21.591\n",
      "Batch : 35, D Loss : 3.523 | G Loss : 22.066\n",
      "Batch : 36, D Loss : 3.591 | G Loss : 24.420\n",
      "Batch : 37, D Loss : 3.402 | G Loss : 21.615\n",
      "Batch : 38, D Loss : 3.475 | G Loss : 20.964\n",
      "Batch : 39, D Loss : 3.474 | G Loss : 20.315\n",
      "Batch : 40, D Loss : 3.406 | G Loss : 21.278\n",
      "Batch : 41, D Loss : 3.514 | G Loss : 19.282\n",
      "Batch : 42, D Loss : 3.586 | G Loss : 19.782\n",
      "Batch : 43, D Loss : 3.572 | G Loss : 19.382\n",
      "Batch : 44, D Loss : 3.560 | G Loss : 20.213\n",
      "Batch : 45, D Loss : 3.593 | G Loss : 21.143\n",
      "Batch : 46, D Loss : 3.516 | G Loss : 19.290\n",
      "Batch : 47, D Loss : 3.451 | G Loss : 19.790\n",
      "Batch : 48, D Loss : 3.425 | G Loss : 19.497\n",
      "Batch : 49, D Loss : 3.537 | G Loss : 19.571\n",
      "Batch : 50, D Loss : 3.497 | G Loss : 18.782\n",
      "Batch : 51, D Loss : 3.449 | G Loss : 18.611\n",
      "Batch : 52, D Loss : 3.586 | G Loss : 20.198\n",
      "Batch : 53, D Loss : 3.466 | G Loss : 19.608\n",
      "Batch : 54, D Loss : 3.515 | G Loss : 20.052\n",
      "Batch : 55, D Loss : 3.559 | G Loss : 19.318\n",
      "Batch : 56, D Loss : 3.579 | G Loss : 19.282\n",
      "Batch : 57, D Loss : 3.609 | G Loss : 19.838\n",
      "Batch : 58, D Loss : 3.546 | G Loss : 18.936\n",
      "Batch : 59, D Loss : 3.520 | G Loss : 18.518\n",
      "Batch : 60, D Loss : 3.527 | G Loss : 18.699\n",
      "Batch : 61, D Loss : 3.507 | G Loss : 18.457\n",
      "Batch : 62, D Loss : 3.515 | G Loss : 18.651\n",
      "Batch : 63, D Loss : 3.502 | G Loss : 17.979\n",
      "Batch : 64, D Loss : 3.622 | G Loss : 19.849\n",
      "Batch : 65, D Loss : 3.481 | G Loss : 20.264\n",
      "Batch : 66, D Loss : 3.601 | G Loss : 20.214\n",
      "Batch : 67, D Loss : 3.620 | G Loss : 19.465\n",
      "Batch : 68, D Loss : 3.575 | G Loss : 19.211\n",
      "Batch : 69, D Loss : 3.560 | G Loss : 19.707\n",
      "Batch : 70, D Loss : 3.676 | G Loss : 19.112\n",
      "Batch : 71, D Loss : 3.512 | G Loss : 19.392\n",
      "Batch : 72, D Loss : 3.493 | G Loss : 18.077\n",
      "Batch : 73, D Loss : 3.576 | G Loss : 18.803\n",
      "Batch : 74, D Loss : 3.514 | G Loss : 18.243\n",
      "Batch : 75, D Loss : 3.505 | G Loss : 17.983\n",
      "Batch : 76, D Loss : 3.587 | G Loss : 19.023\n",
      "Batch : 77, D Loss : 3.516 | G Loss : 17.085\n",
      "Batch : 78, D Loss : 3.464 | G Loss : 17.769\n",
      "Batch : 79, D Loss : 3.554 | G Loss : 17.896\n",
      "Batch : 80, D Loss : 3.608 | G Loss : 19.486\n",
      "Batch : 81, D Loss : 3.461 | G Loss : 18.387\n",
      "Batch : 82, D Loss : 3.545 | G Loss : 18.900\n",
      "Batch : 83, D Loss : 3.516 | G Loss : 18.132\n",
      "Batch : 84, D Loss : 3.492 | G Loss : 19.008\n",
      "Batch : 85, D Loss : 3.512 | G Loss : 17.688\n",
      "Batch : 86, D Loss : 3.474 | G Loss : 18.447\n",
      "Batch : 87, D Loss : 3.648 | G Loss : 18.115\n",
      "Batch : 88, D Loss : 3.613 | G Loss : 18.098\n"
     ]
    },
    {
     "ename": "KeyboardInterrupt",
     "evalue": "",
     "output_type": "error",
     "traceback": [
      "\u001b[1;31m---------------------------------------------------------------------------\u001b[0m",
      "\u001b[1;31mKeyboardInterrupt\u001b[0m                         Traceback (most recent call last)",
      "\u001b[1;32m<ipython-input-19-385418c88ba9>\u001b[0m in \u001b[0;36m<module>\u001b[1;34m\u001b[0m\n\u001b[1;32m----> 1\u001b[1;33m \u001b[0mtrain\u001b[0m\u001b[1;33m(\u001b[0m\u001b[0md_model\u001b[0m\u001b[1;33m,\u001b[0m \u001b[0mg_model\u001b[0m\u001b[1;33m,\u001b[0m \u001b[0mgan_model\u001b[0m\u001b[1;33m,\u001b[0m \u001b[1;33m[\u001b[0m\u001b[0mblue_sketch\u001b[0m\u001b[1;33m,\u001b[0m \u001b[0mblue_photo\u001b[0m\u001b[1;33m]\u001b[0m\u001b[1;33m,\u001b[0m \u001b[1;34m'Models/Pixel[02]_Context[08]/'\u001b[0m\u001b[1;33m,\u001b[0m \u001b[0mn_epochs\u001b[0m \u001b[1;33m=\u001b[0m \u001b[1;36m100\u001b[0m\u001b[1;33m,\u001b[0m \u001b[0mn_batch\u001b[0m\u001b[1;33m=\u001b[0m\u001b[1;36m16\u001b[0m\u001b[1;33m)\u001b[0m\u001b[1;33m\u001b[0m\u001b[1;33m\u001b[0m\u001b[0m\n\u001b[0m",
      "\u001b[1;32m<ipython-input-8-cd00650cfdb5>\u001b[0m in \u001b[0;36mtrain\u001b[1;34m(d_model, g_model, gan_model, data, target_dir, n_epochs, n_batch)\u001b[0m\n\u001b[0;32m     22\u001b[0m \u001b[1;33m\u001b[0m\u001b[0m\n\u001b[0;32m     23\u001b[0m             \u001b[1;31m# generate a batch of fake samples\u001b[0m\u001b[1;33m\u001b[0m\u001b[1;33m\u001b[0m\u001b[1;33m\u001b[0m\u001b[0m\n\u001b[1;32m---> 24\u001b[1;33m             \u001b[0mX_fakeB\u001b[0m\u001b[1;33m,\u001b[0m \u001b[0my_fake\u001b[0m \u001b[1;33m=\u001b[0m \u001b[0mgenerate_fake_samples\u001b[0m\u001b[1;33m(\u001b[0m\u001b[0mg_model\u001b[0m\u001b[1;33m,\u001b[0m \u001b[0mX_realA\u001b[0m\u001b[1;33m,\u001b[0m \u001b[0mn_patch\u001b[0m\u001b[1;33m)\u001b[0m\u001b[1;33m\u001b[0m\u001b[1;33m\u001b[0m\u001b[0m\n\u001b[0m\u001b[0;32m     25\u001b[0m \u001b[1;33m\u001b[0m\u001b[0m\n\u001b[0;32m     26\u001b[0m             \u001b[1;31m# update discriminator for real samples\u001b[0m\u001b[1;33m\u001b[0m\u001b[1;33m\u001b[0m\u001b[1;33m\u001b[0m\u001b[0m\n",
      "\u001b[1;32m<ipython-input-3-82f482ca6bf5>\u001b[0m in \u001b[0;36mgenerate_fake_samples\u001b[1;34m(g_model, samples, patch_shape)\u001b[0m\n\u001b[0;32m     18\u001b[0m \u001b[1;32mdef\u001b[0m \u001b[0mgenerate_fake_samples\u001b[0m\u001b[1;33m(\u001b[0m\u001b[0mg_model\u001b[0m\u001b[1;33m,\u001b[0m \u001b[0msamples\u001b[0m\u001b[1;33m,\u001b[0m \u001b[0mpatch_shape\u001b[0m\u001b[1;33m)\u001b[0m\u001b[1;33m:\u001b[0m\u001b[1;33m\u001b[0m\u001b[1;33m\u001b[0m\u001b[0m\n\u001b[0;32m     19\u001b[0m     \u001b[1;31m# generate fake instance\u001b[0m\u001b[1;33m\u001b[0m\u001b[1;33m\u001b[0m\u001b[1;33m\u001b[0m\u001b[0m\n\u001b[1;32m---> 20\u001b[1;33m     \u001b[0mX\u001b[0m \u001b[1;33m=\u001b[0m \u001b[0mg_model\u001b[0m\u001b[1;33m.\u001b[0m\u001b[0mpredict\u001b[0m\u001b[1;33m(\u001b[0m\u001b[0msamples\u001b[0m\u001b[1;33m)\u001b[0m\u001b[1;33m\u001b[0m\u001b[1;33m\u001b[0m\u001b[0m\n\u001b[0m\u001b[0;32m     21\u001b[0m \u001b[1;33m\u001b[0m\u001b[0m\n\u001b[0;32m     22\u001b[0m     \u001b[1;31m# create 'fake' class labels (0)\u001b[0m\u001b[1;33m\u001b[0m\u001b[1;33m\u001b[0m\u001b[1;33m\u001b[0m\u001b[0m\n",
      "\u001b[1;32m~\\miniconda3\\envs\\face\\lib\\site-packages\\keras\\engine\\training.py\u001b[0m in \u001b[0;36mpredict\u001b[1;34m(self, x, batch_size, verbose, steps, callbacks, max_queue_size, workers, use_multiprocessing)\u001b[0m\n\u001b[0;32m   1460\u001b[0m                                             \u001b[0mverbose\u001b[0m\u001b[1;33m=\u001b[0m\u001b[0mverbose\u001b[0m\u001b[1;33m,\u001b[0m\u001b[1;33m\u001b[0m\u001b[1;33m\u001b[0m\u001b[0m\n\u001b[0;32m   1461\u001b[0m                                             \u001b[0msteps\u001b[0m\u001b[1;33m=\u001b[0m\u001b[0msteps\u001b[0m\u001b[1;33m,\u001b[0m\u001b[1;33m\u001b[0m\u001b[1;33m\u001b[0m\u001b[0m\n\u001b[1;32m-> 1462\u001b[1;33m                                             callbacks=callbacks)\n\u001b[0m\u001b[0;32m   1463\u001b[0m \u001b[1;33m\u001b[0m\u001b[0m\n\u001b[0;32m   1464\u001b[0m     def train_on_batch(self, x, y,\n",
      "\u001b[1;32m~\\miniconda3\\envs\\face\\lib\\site-packages\\keras\\engine\\training_arrays.py\u001b[0m in \u001b[0;36mpredict_loop\u001b[1;34m(model, f, ins, batch_size, verbose, steps, callbacks)\u001b[0m\n\u001b[0;32m    322\u001b[0m             \u001b[0mbatch_logs\u001b[0m \u001b[1;33m=\u001b[0m \u001b[1;33m{\u001b[0m\u001b[1;34m'batch'\u001b[0m\u001b[1;33m:\u001b[0m \u001b[0mbatch_index\u001b[0m\u001b[1;33m,\u001b[0m \u001b[1;34m'size'\u001b[0m\u001b[1;33m:\u001b[0m \u001b[0mlen\u001b[0m\u001b[1;33m(\u001b[0m\u001b[0mbatch_ids\u001b[0m\u001b[1;33m)\u001b[0m\u001b[1;33m}\u001b[0m\u001b[1;33m\u001b[0m\u001b[1;33m\u001b[0m\u001b[0m\n\u001b[0;32m    323\u001b[0m             \u001b[0mcallbacks\u001b[0m\u001b[1;33m.\u001b[0m\u001b[0m_call_batch_hook\u001b[0m\u001b[1;33m(\u001b[0m\u001b[1;34m'predict'\u001b[0m\u001b[1;33m,\u001b[0m \u001b[1;34m'begin'\u001b[0m\u001b[1;33m,\u001b[0m \u001b[0mbatch_index\u001b[0m\u001b[1;33m,\u001b[0m \u001b[0mbatch_logs\u001b[0m\u001b[1;33m)\u001b[0m\u001b[1;33m\u001b[0m\u001b[1;33m\u001b[0m\u001b[0m\n\u001b[1;32m--> 324\u001b[1;33m             \u001b[0mbatch_outs\u001b[0m \u001b[1;33m=\u001b[0m \u001b[0mf\u001b[0m\u001b[1;33m(\u001b[0m\u001b[0mins_batch\u001b[0m\u001b[1;33m)\u001b[0m\u001b[1;33m\u001b[0m\u001b[1;33m\u001b[0m\u001b[0m\n\u001b[0m\u001b[0;32m    325\u001b[0m             \u001b[0mbatch_outs\u001b[0m \u001b[1;33m=\u001b[0m \u001b[0mto_list\u001b[0m\u001b[1;33m(\u001b[0m\u001b[0mbatch_outs\u001b[0m\u001b[1;33m)\u001b[0m\u001b[1;33m\u001b[0m\u001b[1;33m\u001b[0m\u001b[0m\n\u001b[0;32m    326\u001b[0m             \u001b[1;32mif\u001b[0m \u001b[0mbatch_index\u001b[0m \u001b[1;33m==\u001b[0m \u001b[1;36m0\u001b[0m\u001b[1;33m:\u001b[0m\u001b[1;33m\u001b[0m\u001b[1;33m\u001b[0m\u001b[0m\n",
      "\u001b[1;32m~\\miniconda3\\envs\\face\\lib\\site-packages\\tensorflow_core\\python\\keras\\backend.py\u001b[0m in \u001b[0;36m__call__\u001b[1;34m(self, inputs)\u001b[0m\n\u001b[0;32m   3474\u001b[0m \u001b[1;33m\u001b[0m\u001b[0m\n\u001b[0;32m   3475\u001b[0m     fetched = self._callable_fn(*array_vals,\n\u001b[1;32m-> 3476\u001b[1;33m                                 run_metadata=self.run_metadata)\n\u001b[0m\u001b[0;32m   3477\u001b[0m     \u001b[0mself\u001b[0m\u001b[1;33m.\u001b[0m\u001b[0m_call_fetch_callbacks\u001b[0m\u001b[1;33m(\u001b[0m\u001b[0mfetched\u001b[0m\u001b[1;33m[\u001b[0m\u001b[1;33m-\u001b[0m\u001b[0mlen\u001b[0m\u001b[1;33m(\u001b[0m\u001b[0mself\u001b[0m\u001b[1;33m.\u001b[0m\u001b[0m_fetches\u001b[0m\u001b[1;33m)\u001b[0m\u001b[1;33m:\u001b[0m\u001b[1;33m]\u001b[0m\u001b[1;33m)\u001b[0m\u001b[1;33m\u001b[0m\u001b[1;33m\u001b[0m\u001b[0m\n\u001b[0;32m   3478\u001b[0m     output_structure = nest.pack_sequence_as(\n",
      "\u001b[1;32m~\\miniconda3\\envs\\face\\lib\\site-packages\\tensorflow_core\\python\\client\\session.py\u001b[0m in \u001b[0;36m__call__\u001b[1;34m(self, *args, **kwargs)\u001b[0m\n\u001b[0;32m   1470\u001b[0m         ret = tf_session.TF_SessionRunCallable(self._session._session,\n\u001b[0;32m   1471\u001b[0m                                                \u001b[0mself\u001b[0m\u001b[1;33m.\u001b[0m\u001b[0m_handle\u001b[0m\u001b[1;33m,\u001b[0m \u001b[0margs\u001b[0m\u001b[1;33m,\u001b[0m\u001b[1;33m\u001b[0m\u001b[1;33m\u001b[0m\u001b[0m\n\u001b[1;32m-> 1472\u001b[1;33m                                                run_metadata_ptr)\n\u001b[0m\u001b[0;32m   1473\u001b[0m         \u001b[1;32mif\u001b[0m \u001b[0mrun_metadata\u001b[0m\u001b[1;33m:\u001b[0m\u001b[1;33m\u001b[0m\u001b[1;33m\u001b[0m\u001b[0m\n\u001b[0;32m   1474\u001b[0m           \u001b[0mproto_data\u001b[0m \u001b[1;33m=\u001b[0m \u001b[0mtf_session\u001b[0m\u001b[1;33m.\u001b[0m\u001b[0mTF_GetBuffer\u001b[0m\u001b[1;33m(\u001b[0m\u001b[0mrun_metadata_ptr\u001b[0m\u001b[1;33m)\u001b[0m\u001b[1;33m\u001b[0m\u001b[1;33m\u001b[0m\u001b[0m\n",
      "\u001b[1;31mKeyboardInterrupt\u001b[0m: "
     ]
    }
   ],
   "source": [
    "train(d_model, g_model, gan_model, [blue_sketch, blue_photo], 'Models/Pixel[02]_Context[08]/', n_epochs = 100, n_batch=16)"
   ]
  },
  {
   "cell_type": "code",
   "execution_count": 20,
   "metadata": {
    "id": "q7Jx3PLdwKmT"
   },
   "outputs": [],
   "source": [
    "g_model_json = g_model.to_json()\n",
    "with open(\"g_model.json\", \"w\") as json_file:\n",
    "    json_file.write(g_model_json)\n",
    "d_model_json = d_model.to_json()\n",
    "with open(\"d_model.json\", \"w\") as json_file:\n",
    "    json_file.write(d_model_json)"
   ]
  },
  {
   "cell_type": "code",
   "execution_count": 21,
   "metadata": {
    "colab": {
     "base_uri": "https://localhost:8080/"
    },
    "executionInfo": {
     "elapsed": 2015,
     "status": "ok",
     "timestamp": 1648022478629,
     "user": {
      "displayName": "naveen venkat",
      "photoUrl": "https://lh3.googleusercontent.com/a/default-user=s64",
      "userId": "18147258204260933479"
     },
     "user_tz": -330
    },
    "id": "HsSPP7I_vNmG",
    "outputId": "0d9731bb-9fe4-431a-8520-0e5d26e4ef0f"
   },
   "outputs": [
    {
     "name": "stdout",
     "output_type": "stream",
     "text": [
      "Saved model to disk\n"
     ]
    }
   ],
   "source": [
    "# saving model to H5\n",
    "g_model.save(\"g_model1.h5\")\n",
    "d_model.save(\"d_model1.h5\")\n",
    "print(\"Saved model to disk\")"
   ]
  },
  {
   "cell_type": "code",
   "execution_count": null,
   "metadata": {
    "id": "BisxVyLpvZzo"
   },
   "outputs": [],
   "source": []
  }
 ],
 "metadata": {
  "accelerator": "GPU",
  "colab": {
   "collapsed_sections": [],
   "name": "GAN.ipynb",
   "provenance": []
  },
  "kernelspec": {
   "display_name": "Python 3 (ipykernel)",
   "language": "python",
   "name": "python3"
  },
  "language_info": {
   "codemirror_mode": {
    "name": "ipython",
    "version": 3
   },
   "file_extension": ".py",
   "mimetype": "text/x-python",
   "name": "python",
   "nbconvert_exporter": "python",
   "pygments_lexer": "ipython3",
   "version": "3.11.5"
  }
 },
 "nbformat": 4,
 "nbformat_minor": 1
}
